{
 "cells": [
  {
   "cell_type": "code",
   "execution_count": null,
   "metadata": {},
   "outputs": [],
   "source": [
    "!pip install pymilvus sentence_transformers langchain"
   ]
  },
  {
   "cell_type": "markdown",
   "metadata": {},
   "source": [
    "## Test Milvus deployment"
   ]
  },
  {
   "cell_type": "code",
   "execution_count": 45,
   "metadata": {},
   "outputs": [
    {
     "name": "stdout",
     "output_type": "stream",
     "text": [
      "Testing connection to Milvus:\n",
      "Connection to Milvus successful, example collection does not exist.\n",
      "Creating collection and inserting sample data.\n",
      "Collection created: example_collection\n",
      "Sample data inserted into collection: example_collection\n"
     ]
    }
   ],
   "source": [
    "from pymilvus import connections, utility\n",
    "\n",
    "MILVUS_HOST = \"HOST\"  # or replace with external route URL if accessible\n",
    "MILVUS_PORT = \"19530\"  # Default port for Milvus gRPC\n",
    "\n",
    "def test_milvus_connection():\n",
    "    # Connect to Milvus server\n",
    "    connections.connect(\"default\", host=MILVUS_HOST, port=MILVUS_PORT)\n",
    "    \n",
    "    # Test connection by checking the server version\n",
    "    try:\n",
    "        if utility.has_collection(\"example_collection\"):\n",
    "            print(\"Connection to Milvus successful, example collection exists.\")\n",
    "        else:\n",
    "            print(\"Connection to Milvus successful, example collection does not exist.\")\n",
    "    except Exception as e:\n",
    "        print(\"Failed to connect to Milvus:\", e)\n",
    "\n",
    "def create_sample_collection():\n",
    "    from pymilvus import Collection, FieldSchema, CollectionSchema, DataType\n",
    "\n",
    "    # Define the schema\n",
    "    fields = [\n",
    "        FieldSchema(name=\"id\", dtype=DataType.INT64, is_primary=True, auto_id=True),\n",
    "        FieldSchema(name=\"vector\", dtype=DataType.FLOAT_VECTOR, dim=128),\n",
    "    ]\n",
    "    schema = CollectionSchema(fields, \"Sample schema for testing\")\n",
    "\n",
    "    # Create a collection named \"example_collection\"\n",
    "    collection = Collection(\"example_collection\", schema)\n",
    "    print(\"Collection created:\", collection.name)\n",
    "\n",
    "    return collection\n",
    "\n",
    "def insert_sample_data(collection):\n",
    "    import numpy as np\n",
    "\n",
    "    # Generate sample data\n",
    "    vectors = np.random.random([10, 128]).astype(\"float32\")  # 10 vectors of dimension 128\n",
    "    data = [vectors]\n",
    "\n",
    "    # Insert data\n",
    "    collection.insert(data)\n",
    "    print(\"Sample data inserted into collection:\", collection.name)\n",
    "\n",
    "if __name__ == \"__main__\":\n",
    "    print(\"Testing connection to Milvus:\")\n",
    "    test_milvus_connection()\n",
    "\n",
    "    # Optional: Create and insert data if connected successfully\n",
    "    collection_name = \"example_collection\"\n",
    "    if not utility.has_collection(collection_name):\n",
    "        print(\"Creating collection and inserting sample data.\")\n",
    "        collection = create_sample_collection()\n",
    "        insert_sample_data(collection)\n",
    "    else:\n",
    "        print(\"Collection already exists.\")"
   ]
  },
  {
   "cell_type": "markdown",
   "metadata": {},
   "source": [
    "## Create Milvus Collection"
   ]
  },
  {
   "cell_type": "code",
   "execution_count": 46,
   "metadata": {},
   "outputs": [],
   "source": [
    "import os\n",
    "from pymilvus import connections, FieldSchema, CollectionSchema, DataType, Collection\n",
    "from sentence_transformers import SentenceTransformer\n",
    "from langchain.text_splitter import MarkdownTextSplitter\n",
    "import markdown\n",
    "from pathlib import Path\n",
    "# Vectorization model\n",
    "model = SentenceTransformer(\"WhereIsAI/UAE-Large-V1\")\n",
    "\n",
    "# Connect to Milvus\n",
    "connections.connect(\"default\", host=MILVUS_HOST, port=MILVUS_PORT)    \n",
    "\n",
    "def read_md_files(md_dir):\n",
    "    \"\"\"Read and parse markdown files from a directory.\"\"\"\n",
    "    md_texts = []\n",
    "    for md_file in Path(md_dir).rglob(\"*.md\"):\n",
    "        with open(md_file, \"r\", encoding=\"utf-8\") as file:\n",
    "            text = file.read()\n",
    "            html = markdown.markdown(text)\n",
    "            md_texts.append(html)\n",
    "    return md_texts\n",
    "\n",
    "\n",
    "def chunk_text(text, chunk_size=1000, chunk_overlap=500):\n",
    "    text_splitter = MarkdownTextSplitter(\n",
    "        chunk_size=chunk_size,\n",
    "        chunk_overlap=chunk_overlap\n",
    "    )\n",
    "    return text_splitter.split_text(text)\n",
    "\n",
    "def vectorize_and_insert(collection, md_dir):\n",
    "    \"\"\"Chunk, vectorize, and insert Markdown text data into Milvus.\"\"\"\n",
    "    md_texts = read_md_files(md_dir)\n",
    "    \n",
    "    # Prepare data for insertion\n",
    "    all_text_chunks = []\n",
    "    all_vectors = []\n",
    "    \n",
    "    for md_text in md_texts:\n",
    "        chunks = chunk_text(md_text)\n",
    "        embeddings = model.encode(chunks, show_progress_bar=True)\n",
    "        \n",
    "        # Collect data for Milvus insertion\n",
    "        all_text_chunks.extend(chunks)\n",
    "        all_vectors.extend(embeddings)\n",
    "\n",
    "    # Insert into Milvus\n",
    "    collection.insert([all_text_chunks, all_vectors])\n",
    "    print(f\"Inserted {len(all_vectors)} vectors into Milvus.\")\n",
    "\n",
    "\n",
    "def create_collection(collection_name, markdown_directory):\n",
    "    # Define Milvus schema\n",
    "    fields = [\n",
    "        FieldSchema(name=\"id\", dtype=DataType.INT64, is_primary=True, auto_id=True),\n",
    "        FieldSchema(name=\"text_chunk\", dtype=DataType.VARCHAR, max_length=1024),\n",
    "        FieldSchema(name=\"embedding\", dtype=DataType.FLOAT_VECTOR, dim=1024),\n",
    "    ]\n",
    "    schema = CollectionSchema(fields, \"Schema for Markdown file vectors\")\n",
    "\n",
    "    # Create collection if it doesn't exist\n",
    "    if not utility.has_collection(collection_name):\n",
    "        collection = Collection(name=collection_name, schema=schema)\n",
    "    else:\n",
    "        collection = Collection(name=collection_name)\n",
    "\n",
    "    # Ensure the index on the embedding field\n",
    "    index_params = {\n",
    "        \"metric_type\": \"L2\",\n",
    "        \"index_type\": \"IVF_FLAT\",\n",
    "        \"params\": {\"nlist\": 128}\n",
    "    }\n",
    "\n",
    "    # Check if an index already exists; create if it doesn't\n",
    "    if not collection.has_index():\n",
    "        collection.create_index(field_name=\"embedding\", index_params=index_params)\n",
    "        print(\"Index created on 'embedding' field.\")\n",
    "    else:\n",
    "        print(\"Index already exists on 'embedding' field.\")\n",
    "\n",
    "    vectorize_and_insert(collection, markdown_directory)"
   ]
  },
  {
   "cell_type": "code",
   "execution_count": 47,
   "metadata": {},
   "outputs": [
    {
     "name": "stdout",
     "output_type": "stream",
     "text": [
      "Index created on 'embedding' field.\n"
     ]
    },
    {
     "data": {
      "application/vnd.jupyter.widget-view+json": {
       "model_id": "edd29c0e35fa4b659d5a65a95b4751d8",
       "version_major": 2,
       "version_minor": 0
      },
      "text/plain": [
       "Batches:   0%|          | 0/2 [00:00<?, ?it/s]"
      ]
     },
     "metadata": {},
     "output_type": "display_data"
    },
    {
     "data": {
      "application/vnd.jupyter.widget-view+json": {
       "model_id": "11d49db04758496c9570d19fec7c4847",
       "version_major": 2,
       "version_minor": 0
      },
      "text/plain": [
       "Batches:   0%|          | 0/1 [00:00<?, ?it/s]"
      ]
     },
     "metadata": {},
     "output_type": "display_data"
    },
    {
     "data": {
      "application/vnd.jupyter.widget-view+json": {
       "model_id": "e3763ef6215b43ceaf0933cdef6f2ea6",
       "version_major": 2,
       "version_minor": 0
      },
      "text/plain": [
       "Batches:   0%|          | 0/1 [00:00<?, ?it/s]"
      ]
     },
     "metadata": {},
     "output_type": "display_data"
    },
    {
     "data": {
      "application/vnd.jupyter.widget-view+json": {
       "model_id": "ddc035f061034ac6ad614cb1c95d47a1",
       "version_major": 2,
       "version_minor": 0
      },
      "text/plain": [
       "Batches:   0%|          | 0/2 [00:00<?, ?it/s]"
      ]
     },
     "metadata": {},
     "output_type": "display_data"
    },
    {
     "data": {
      "application/vnd.jupyter.widget-view+json": {
       "model_id": "746a18835856402d8660bcb60822778c",
       "version_major": 2,
       "version_minor": 0
      },
      "text/plain": [
       "Batches:   0%|          | 0/2 [00:00<?, ?it/s]"
      ]
     },
     "metadata": {},
     "output_type": "display_data"
    },
    {
     "data": {
      "application/vnd.jupyter.widget-view+json": {
       "model_id": "93d90a2241ad4188956e9948bb49e136",
       "version_major": 2,
       "version_minor": 0
      },
      "text/plain": [
       "Batches:   0%|          | 0/1 [00:00<?, ?it/s]"
      ]
     },
     "metadata": {},
     "output_type": "display_data"
    },
    {
     "name": "stdout",
     "output_type": "stream",
     "text": [
      "Inserted 226 vectors into Milvus.\n"
     ]
    }
   ],
   "source": [
    "collection_name = \"product_details\"\n",
    "markdown_directory = \"../docs/product_details\" \n",
    "create_collection(collection_name, markdown_directory)"
   ]
  },
  {
   "cell_type": "code",
   "execution_count": 48,
   "metadata": {},
   "outputs": [
    {
     "name": "stdout",
     "output_type": "stream",
     "text": [
      "Index created on 'embedding' field.\n"
     ]
    },
    {
     "data": {
      "application/vnd.jupyter.widget-view+json": {
       "model_id": "ca2b0755938a449c9ef8bfa25c2b6436",
       "version_major": 2,
       "version_minor": 0
      },
      "text/plain": [
       "Batches:   0%|          | 0/2 [00:00<?, ?it/s]"
      ]
     },
     "metadata": {},
     "output_type": "display_data"
    },
    {
     "data": {
      "application/vnd.jupyter.widget-view+json": {
       "model_id": "a2a553859ea44a4985fb8e16c482dba5",
       "version_major": 2,
       "version_minor": 0
      },
      "text/plain": [
       "Batches:   0%|          | 0/2 [00:00<?, ?it/s]"
      ]
     },
     "metadata": {},
     "output_type": "display_data"
    },
    {
     "name": "stdout",
     "output_type": "stream",
     "text": [
      "Inserted 72 vectors into Milvus.\n"
     ]
    }
   ],
   "source": [
    "collection_name = \"HR_policies\"\n",
    "markdown_directory = \"../docs/HR_policies\" \n",
    "create_collection(collection_name, markdown_directory)"
   ]
  },
  {
   "cell_type": "code",
   "execution_count": 49,
   "metadata": {},
   "outputs": [
    {
     "name": "stdout",
     "output_type": "stream",
     "text": [
      "Index created on 'embedding' field.\n"
     ]
    },
    {
     "data": {
      "application/vnd.jupyter.widget-view+json": {
       "model_id": "c2f80bfee6974a28b736398e4d7874c5",
       "version_major": 2,
       "version_minor": 0
      },
      "text/plain": [
       "Batches:   0%|          | 0/1 [00:00<?, ?it/s]"
      ]
     },
     "metadata": {},
     "output_type": "display_data"
    },
    {
     "data": {
      "application/vnd.jupyter.widget-view+json": {
       "model_id": "4a35f51f5e934502a0dfbfa2bffd5189",
       "version_major": 2,
       "version_minor": 0
      },
      "text/plain": [
       "Batches:   0%|          | 0/1 [00:00<?, ?it/s]"
      ]
     },
     "metadata": {},
     "output_type": "display_data"
    },
    {
     "data": {
      "application/vnd.jupyter.widget-view+json": {
       "model_id": "7c3d119df0b04f73ad003ddba87992d1",
       "version_major": 2,
       "version_minor": 0
      },
      "text/plain": [
       "Batches:   0%|          | 0/1 [00:00<?, ?it/s]"
      ]
     },
     "metadata": {},
     "output_type": "display_data"
    },
    {
     "name": "stdout",
     "output_type": "stream",
     "text": [
      "Inserted 75 vectors into Milvus.\n"
     ]
    }
   ],
   "source": [
    "collection_name = \"customer_accounts\"\n",
    "markdown_directory = \"../docs/customer_accounts\" \n",
    "create_collection(collection_name, markdown_directory)"
   ]
  },
  {
   "cell_type": "code",
   "execution_count": 31,
   "metadata": {},
   "outputs": [],
   "source": [
    "def delete_collection(collection_name, host=MILVUS_HOST, port=MILVUS_PORT):\n",
    "    \"\"\"\n",
    "    Deletes a specified collection in Milvus.\n",
    "\n",
    "    Parameters:\n",
    "        collection_name (str): The name of the collection to delete.\n",
    "        host (str): The host address of the Milvus server. Default is \"localhost\".\n",
    "        port (str): The port of the Milvus server. Default is \"19530\".\n",
    "    \"\"\"\n",
    "    # Connect to Milvus\n",
    "    connections.connect(\"default\", host, port)\n",
    "\n",
    "    collection = Collection(collection_name)\n",
    "        \n",
    "        # Drop the collection\n",
    "    collection.drop()\n",
    "    print(f\"Collection '{collection_name}' has been successfully deleted.\")\n",
    "\n",
    "# delete_collection(\"customer_accounts\")\n",
    "# delete_collection(\"product_details\")\n",
    "# delete_collection(\"HR_policies\")\n"
   ]
  },
  {
   "cell_type": "markdown",
   "metadata": {},
   "source": [
    "## Query Milvus Collection"
   ]
  },
  {
   "cell_type": "code",
   "execution_count": 50,
   "metadata": {},
   "outputs": [],
   "source": [
    "from pymilvus import Collection\n",
    "from sentence_transformers import SentenceTransformer\n",
    "\n",
    "# Initialize the embedding model (same as used for data insertion)\n",
    "model = SentenceTransformer(\"WhereIsAI/UAE-Large-V1\")\n",
    "\n",
    "def query_milvus(collection_name, query_text, top_k=3):\n",
    "    \"\"\"\n",
    "    Query the Milvus index with a string and return the top K matches.\n",
    "\n",
    "    Parameters:\n",
    "    - collection_name (str): Name of the Milvus collection.\n",
    "    - query_text (str): The query string to search for.\n",
    "    - top_k (int): The number of top matches to return (default is 3).\n",
    "\n",
    "    Returns:\n",
    "    - List of dictionaries with fields: \"id\", \"text_chunk\", and \"score\".\n",
    "    \"\"\"\n",
    "    # Load the collection\n",
    "    collection = Collection(name=collection_name)\n",
    "\n",
    "    # Ensure the collection is loaded into memory\n",
    "    collection.load()\n",
    "\n",
    "    # Vectorize the query text\n",
    "    query_embedding = model.encode([query_text])[0]  # Single vector\n",
    "\n",
    "    # Perform search\n",
    "    search_params = {\"metric_type\": \"L2\", \"params\": {\"nprobe\": 10}}\n",
    "    results = collection.search(\n",
    "        data=[query_embedding],  # Query vector\n",
    "        anns_field=\"embedding\",\n",
    "        param=search_params,\n",
    "        limit=top_k,\n",
    "        output_fields=[\"text_chunk\"]  # Retrieve the text chunk field\n",
    "    )\n",
    "\n",
    "    # Process and return results\n",
    "    top_matches = []\n",
    "    for result in results[0]:  # results[0] because search returns a list of lists\n",
    "        match = {\n",
    "            \"id\": result.id,\n",
    "            \"text_chunk\": result.entity.get(\"text_chunk\"),\n",
    "            \"score\": result.distance  # Lower scores indicate closer matches for \"L2\"\n",
    "        }\n",
    "        top_matches.append(match)\n",
    "\n",
    "    return top_matches\n"
   ]
  },
  {
   "cell_type": "code",
   "execution_count": 51,
   "metadata": {},
   "outputs": [
    {
     "name": "stdout",
     "output_type": "stream",
     "text": [
      "Top matches: [{'id': 453745768502133076, 'text_chunk': '<h2><strong>1. CloudForge Migrate</strong></h2>\\n<h3><strong>Detailed Description</strong></h3>\\n<p><strong>CloudForge Migrate</strong> is an all-in-one cloud migration platform designed to simplify the complex process of moving applications, data, and infrastructure to the cloud. It provides a seamless transition from on-premises or legacy systems to modern cloud environments, supporting public, private, and hybrid cloud models across major providers like AWS, Microsoft Azure, and Google Cloud Platform.</p>\\n<p><strong>Key Components:</strong></p>\\n<ul>\\n<li><strong>Migration Assessment Module:</strong> Analyzes your existing IT landscape to create a detailed migration plan, identifying dependencies, potential risks, and optimization opportunities.</li>\\n<li><strong>Data Migration Engine:</strong> Handles the secure transfer of databases and files, ensuring data integrity and minimal downtime.</li>', 'score': 88.76605224609375}, {'id': 453745768502132961, 'text_chunk': '<li><strong>Technological Changes</strong>: Invest in R&amp;D to adapt to emerging technologies and industry trends.</li>\\n<li><strong>Security Concerns</strong>: Implement robust security measures to protect client data and maintain trust.</li>\\n</ul>\\n<hr />\\n<h2><strong>Major Products</strong></h2>\\n<h3><strong>1. CloudForge Migrate</strong></h3>\\n<p><strong>Simplify Your Journey to the Cloud</strong></p>\\n<p><strong>Description</strong>: CloudForge Migrate is a comprehensive cloud migration tool that automates the process of moving applications, data, and infrastructure to the cloud. It supports multi-cloud environments, including AWS, Azure, and Google Cloud.</p>\\n<p><strong>Key Features</strong>:</p>\\n<ul>\\n<li><strong>Automated Assessment</strong>: Analyzes existing infrastructure to plan optimal migration paths.</li>\\n<li><strong>Seamless Transition</strong>: Minimizes downtime with live data synchronization and rollback capabilities.</li>', 'score': 100.2884521484375}, {'id': 453745768502133081, 'text_chunk': '<p><strong>Q2: How does CloudForge Migrate minimize downtime during migration?</strong></p>\\n<p><strong>A:</strong> The platform uses live data synchronization and replication techniques to keep the source and target systems in sync during migration. This allows for cutover to the new system with minimal downtime, often achievable during off-peak hours.</p>\\n<p><strong>Q3: Is CloudForge Migrate suitable for multi-cloud strategies?</strong></p>\\n<p><strong>A:</strong> Yes, it supports migrations to and between different cloud providers, enabling hybrid and multi-cloud deployments. This flexibility allows organizations to leverage the strengths of various cloud platforms.</p>\\n<p><strong>Q4: How does CloudForge Migrate ensure data security during migration?</strong></p>', 'score': 126.99488830566406}]\n"
     ]
    }
   ],
   "source": [
    "collection_name = \"product_details\"\n",
    "query_text = \"What is CloudForge Migrate?\"\n",
    "top_matches = query_milvus(collection_name, query_text)\n",
    "print(\"Top matches:\", top_matches)"
   ]
  },
  {
   "cell_type": "code",
   "execution_count": 52,
   "metadata": {},
   "outputs": [
    {
     "name": "stdout",
     "output_type": "stream",
     "text": [
      "Top matches: [{'id': 453745768502133143, 'text_chunk': '<li>Prepare any questions for the <strong>HR Benefits Session</strong> on your first day.</li>\\n<li>Decide on health insurance plan options and dependent coverage.</li>\\n</ul>\\n<h3><strong>3. First Day Logistics</strong></h3>\\n<ul>\\n<li><strong>Start Date and Time:</strong> Confirmed with your HR representative.</li>\\n<li><strong>Office Address:</strong> 1234 Innovation Drive, Tech City, USA.</li>\\n<li><strong>Parking and Transportation:</strong></li>\\n<li>Parking pass details (if applicable).</li>\\n<li>Public transportation options.</li>\\n<li><strong>Dress Code:</strong> Business casual attire recommended for the first day.</li>\\n<li><strong>Contact Information:</strong></li>\\n<li><strong>HR Representative:</strong> [Name], [Email], [Phone].</li>\\n</ul>\\n<hr />\\n<h2><strong>First Day Orientation</strong></h2>\\n<h3><strong>1. Welcome Session</strong></h3>\\n<ul>\\n<li><strong>Time:</strong> 9:00 AM</li>\\n<li><strong>Location:</strong> Main Conference Room (Room 101)</li>\\n<li><strong>Agenda:</strong></li>', 'score': 219.72105407714844}, {'id': 453745768502133144, 'text_chunk': '<li><strong>Dress Code:</strong> Business casual attire recommended for the first day.</li>\\n<li><strong>Contact Information:</strong></li>\\n<li><strong>HR Representative:</strong> [Name], [Email], [Phone].</li>\\n</ul>\\n<hr />\\n<h2><strong>First Day Orientation</strong></h2>\\n<h3><strong>1. Welcome Session</strong></h3>\\n<ul>\\n<li><strong>Time:</strong> 9:00 AM</li>\\n<li><strong>Location:</strong> Main Conference Room (Room 101)</li>\\n<li><strong>Agenda:</strong></li>\\n<li><strong>Introduction to CloudForge Dynamics</strong></li>\\n<li><strong>Company Mission and Values</strong></li>\\n<li><strong>Overview of Products and Services</strong></li>\\n<li><strong>Meet the HR Team</strong></li>\\n</ul>\\n<h3><strong>2. Office Tour</strong></h3>\\n<ul>\\n<li><strong>Areas Covered:</strong></li>\\n<li>Workstation and Department Area</li>\\n<li>Meeting Rooms and Collaboration Spaces</li>\\n<li>Break Rooms and Cafeteria</li>\\n<li>Restrooms and Wellness Rooms</li>\\n<li>Emergency Exits and Safety Equipment</li>\\n</ul>', 'score': 219.95559692382812}, {'id': 453745768502133140, 'text_chunk': '<li><a href=\"#integration-into-company-culture\">Integration into Company Culture</a></li>\\n<li><a href=\"#first-week-checklist\">First Week Checklist</a></li>\\n<li><a href=\"#first-month-goals\">First Month Goals</a></li>\\n<li><a href=\"#feedback-and-continuous-improvement\">Feedback and Continuous Improvement</a></li>\\n<li><a href=\"#conclusion\">Conclusion</a></li>\\n<li><a href=\"#contacts\">Contacts</a></li>\\n</ol>\\n<hr />\\n<h2><strong>Introduction</strong></h2>\\n<p>Welcome to <strong>CloudForge Dynamics</strong>! We are excited to have you join our team. This onboarding guide is designed to help you navigate your first days and weeks with us, ensuring a smooth transition into your new role. It provides essential information about the company, your responsibilities, and the resources available to support your success.</p>\\n<hr />\\n<h2><strong>Pre-Start Preparations</strong></h2>\\n<h3><strong>1. Employment Documentation</strong></h3>', 'score': 239.48843383789062}]\n"
     ]
    }
   ],
   "source": [
    "collection_name = \"HR_policies\"\n",
    "query_text = \"How can I join the first day?\"\n",
    "top_matches = query_milvus(collection_name, query_text)\n",
    "print(\"Top matches:\", top_matches)"
   ]
  },
  {
   "cell_type": "code",
   "execution_count": 53,
   "metadata": {},
   "outputs": [
    {
     "name": "stdout",
     "output_type": "stream",
     "text": [
      "Top matches: [{'id': 453745768502133235, 'text_chunk': '<strong>Account Number:</strong> CF-MS-2023<br />\\n<strong>Period Covered:</strong> January 1, 2023 – December 31, 2023</p>\\n<hr />\\n<h2><strong>Account Summary</strong></h2>\\n<p>| Description                               | Amount (USD)   |\\n|-------------------------------------------|----------------|\\n| <strong>Opening Balance (January 1, 2023)</strong>     | $0.00          |\\n| <strong>Total Invoiced</strong>                        | $495,000.00    |\\n| <strong>Total Payments Received</strong>               | $495,000.00    |\\n| <strong>Closing Balance (December 31, 2023)</strong>   | <strong>$0.00</strong>      |</p>\\n<hr />\\n<h2><strong>Detailed Transaction History</strong></h2>\\n<h3><strong>Invoices Issued</strong></h3>\\n<p>| Date         | Invoice #     | Description                                              | Amount (USD)   |\\n|--------------|---------------|----------------------------------------------------------|----------------|', 'score': 270.17236328125}, {'id': 453745768502133210, 'text_chunk': '<hr />\\n<hr />\\n<h1><strong>CloudForge Dynamics</strong></h1>\\n<p><strong>Yearly Statement of Account</strong></p>\\n<p><strong>Client:</strong> FinNova Bank<br />\\n<strong>Account Number:</strong> CF-FNB-2023<br />\\n<strong>Period Covered:</strong> January 1, 2023 – December 31, 2023</p>\\n<hr />\\n<h2><strong>Account Summary</strong></h2>\\n<p>| Description                               | Amount (USD)   |\\n|-------------------------------------------|----------------|\\n| <strong>Opening Balance (January 1, 2023)</strong>     | $0.00          |\\n| <strong>Total Invoiced</strong>                        | $782,500.00    |\\n| <strong>Total Payments Received</strong>               | $782,500.00    |\\n| <strong>Closing Balance (December 31, 2023)</strong>   | <strong>$0.00</strong>      |</p>\\n<hr />\\n<h2><strong>Detailed Transaction History</strong></h2>\\n<h3><strong>Invoices Issued</strong></h3>\\n<p>| Date         | Invoice #     | Description                                              | Amount (USD)   |', 'score': 270.6329345703125}, {'id': 453745768502133182, 'text_chunk': '<li><strong>Solution:</strong> Integrated AI Optimizer to automatically adjust resource allocations and configurations.</li>\\n<li><strong>Benefits:</strong><ul>\\n<li>Achieved up to 35% reduction in cloud expenses</li>\\n<li>Enhanced application performance and stability</li>\\n<li>Proactive identification of performance bottlenecks</li>\\n</ul>\\n</li>\\n</ul>\\n<hr />\\n<h1><strong>CloudForge Dynamics</strong></h1>\\n<p><strong>Yearly Statement of Account</strong></p>\\n<p><strong>Client:</strong> TechWave Solutions<br />\\n<strong>Account Number:</strong> CF-TS-2023<br />\\n<strong>Period Covered:</strong> January 1, 2023 – December 31, 2023</p>\\n<hr />\\n<h2><strong>Account Summary</strong></h2>\\n<p>| Description                           | Amount (USD)  |\\n|---------------------------------------|---------------|\\n| <strong>Opening Balance (January 1, 2023)</strong> | $0.00         |\\n| <strong>Total Invoiced</strong>                    | $328,000.00   |', 'score': 284.21484375}]\n"
     ]
    }
   ],
   "source": [
    "collection_name = \"customer_accounts\"\n",
    "query_text = \"top accounts?\"\n",
    "top_matches = query_milvus(collection_name, query_text)\n",
    "print(\"Top matches:\", top_matches)"
   ]
  }
 ],
 "metadata": {
  "kernelspec": {
   "display_name": "kfp",
   "language": "python",
   "name": "python3"
  },
  "language_info": {
   "codemirror_mode": {
    "name": "ipython",
    "version": 3
   },
   "file_extension": ".py",
   "mimetype": "text/x-python",
   "name": "python",
   "nbconvert_exporter": "python",
   "pygments_lexer": "ipython3",
   "version": "3.11.9"
  }
 },
 "nbformat": 4,
 "nbformat_minor": 2
}
