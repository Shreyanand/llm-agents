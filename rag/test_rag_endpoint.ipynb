{
 "cells": [
  {
   "cell_type": "markdown",
   "metadata": {},
   "source": [
    "## Notebook to query and test the rag service"
   ]
  },
  {
   "cell_type": "code",
   "execution_count": 20,
   "metadata": {},
   "outputs": [
    {
     "name": "stdout",
     "output_type": "stream",
     "text": [
      "Test Passed: Received response from /query\n",
      "Response JSON: [{'id': 453547963383558110, 'text_chunk': '<hr />\\n<h1><strong>CloudForge Dynamics</strong></h1>\\n<p><strong>Innovating Cloud Solutions for the Next Generation of Enterprises</strong></p>\\n<hr />\\n<h2><strong>Vision</strong></h2>\\n<p>At <strong>CloudForge Dynamics</strong>, our vision is to <strong>empower businesses globally by providing cutting-edge cloud solutions that drive innovation, scalability, and efficiency</strong>. We strive to be at the forefront of cloud technology, enabling organizations to seamlessly transition into the cloud era while optimizing their operations and unlocking new growth opportunities.</p>\\n<hr />\\n<h2><strong>Business Plan</strong></h2>\\n<h3><strong>Executive Summary</strong></h3>', 'score': 0.9139557480812073}, {'id': 453547963383558246, 'text_chunk': '<hr />\\n<h1><strong>CloudForge Dynamics</strong></h1>\\n<p><strong>Innovating Cloud Solutions for the Next Generation of Enterprises</strong></p>\\n<hr />\\n<h2><strong>Vision</strong></h2>\\n<p>At <strong>CloudForge Dynamics</strong>, our vision is to <strong>empower businesses globally by providing cutting-edge cloud solutions that drive innovation, scalability, and efficiency</strong>. We strive to be at the forefront of cloud technology, enabling organizations to seamlessly transition into the cloud era while optimizing their operations and unlocking new growth opportunities.</p>\\n<hr />\\n<h2><strong>Business Plan</strong></h2>\\n<h3><strong>Executive Summary</strong></h3>', 'score': 0.9139557480812073}, {'id': 453547963383558111, 'text_chunk': '<hr />\\n<h2><strong>Business Plan</strong></h2>\\n<h3><strong>Executive Summary</strong></h3>\\n<p>CloudForge Dynamics is a leading technology company specializing in cloud migration services, Kubernetes orchestration, and AI-powered cloud solutions. Our mission is to simplify and accelerate the adoption of cloud technologies for businesses of all sizes. We offer a comprehensive suite of products and services designed to address the complex challenges of cloud integration, infrastructure management, and application modernization.</p>\\n<h3><strong>Market Analysis</strong></h3>\\n<ul>\\n<li><strong>Industry Growth</strong>: The global cloud computing market is expected to reach $832.1 billion by 2025, driven by increased adoption of cloud services.</li>\\n<li><strong>Target Markets</strong>:</li>\\n<li><strong>Small and Medium-sized Enterprises (SMEs)</strong> seeking affordable cloud migration solutions.</li>', 'score': 0.9216384291648865}]\n"
     ]
    }
   ],
   "source": [
    "import requests\n",
    "\n",
    "# Define the base URL of the FastAPI app\n",
    "BASE_URL = \"<URL>\"  # Update if using a different host or port\n",
    "\n",
    "def test_query_endpoint():\n",
    "    # Define the test input for the query\n",
    "    payload = {\n",
    "        \"query_text\": \"What are the major products at CloudForge?\",\n",
    "        \"top_k\": 3\n",
    "    }\n",
    "\n",
    "    # Send the POST request to the /query endpoint\n",
    "    response = requests.post(f\"{BASE_URL}/query\", json=payload)\n",
    "\n",
    "    # Check if the request was successful\n",
    "    if response.status_code == 200:\n",
    "        # Print out the returned JSON response\n",
    "        print(\"Test Passed: Received response from /query\")\n",
    "        print(\"Response JSON:\", response.json())\n",
    "    else:\n",
    "        # Print out an error message if the request failed\n",
    "        print(\"Test Failed: Could not reach /query endpoint\")\n",
    "        print(\"Status Code:\", response.status_code)\n",
    "        print(\"Response Text:\", response.text)\n",
    "\n",
    "# Run the test\n",
    "if __name__ == \"__main__\":\n",
    "    test_query_endpoint()\n"
   ]
  }
 ],
 "metadata": {
  "kernelspec": {
   "display_name": "kfp",
   "language": "python",
   "name": "python3"
  },
  "language_info": {
   "codemirror_mode": {
    "name": "ipython",
    "version": 3
   },
   "file_extension": ".py",
   "mimetype": "text/x-python",
   "name": "python",
   "nbconvert_exporter": "python",
   "pygments_lexer": "ipython3",
   "version": "3.11.9"
  }
 },
 "nbformat": 4,
 "nbformat_minor": 2
}
