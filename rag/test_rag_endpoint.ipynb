{
 "cells": [
  {
   "cell_type": "markdown",
   "metadata": {},
   "source": [
    "## Notebook to query and test the rag service"
   ]
  },
  {
   "cell_type": "code",
   "execution_count": 1,
   "metadata": {},
   "outputs": [],
   "source": [
    "import requests\n",
    "\n",
    "def test_query_endpoint(BASE_URL, query):\n",
    "    # Define the test input for the query\n",
    "    payload = {\n",
    "        \"query_text\": query,\n",
    "        \"top_k\": 3\n",
    "    }\n",
    "\n",
    "    # Send the POST request to the /query endpoint\n",
    "    response = requests.post(f\"{BASE_URL}/query\", json=payload)\n",
    "\n",
    "    # Check if the request was successful\n",
    "    if response.status_code == 200:\n",
    "        # Print out the returned JSON response\n",
    "        print(\"Test Passed: Received response from /query\")\n",
    "        print(\"Response JSON:\", response.json())\n",
    "    else:\n",
    "        # Print out an error message if the request failed\n",
    "        print(\"Test Failed: Could not reach /query endpoint\")\n",
    "        print(\"Status Code:\", response.status_code)\n",
    "        print(\"Response Text:\", response.text)\n"
   ]
  },
  {
   "cell_type": "code",
   "execution_count": 4,
   "metadata": {},
   "outputs": [
    {
     "name": "stdout",
     "output_type": "stream",
     "text": [
      "Test Passed: Received response from /query\n",
      "Response JSON: [{'id': 453726272212697329, 'text_chunk': '<p><strong>Q1: How does AI Optimizer learn and adapt to my applications?</strong></p>\\n<p><strong>A:</strong> The AI Optimizer collects data on application performance, resource utilization, and user demand over time. It employs machine learning models to identify patterns and trends, allowing it to predict future needs and make proactive adjustments.</p>\\n<p><strong>Q2: What kinds of optimizations can AI Optimizer perform automatically?</strong></p>', 'score': 150.1814422607422}, {'id': 453726272212697324, 'text_chunk': '<h2><strong>3. AI Optimizer</strong></h2>\\n<h3><strong>Detailed Description</strong></h3>\\n<p><strong>AI Optimizer</strong> is an intelligent performance tuning solution that leverages artificial intelligence and machine learning to optimize cloud application performance. It continuously monitors applications and infrastructure, learns from usage patterns, and makes real-time adjustments to resource allocations and configurations to enhance efficiency and reduce costs.</p>', 'score': 158.7060546875}, {'id': 453726272212697330, 'text_chunk': '<p><strong>Q2: What kinds of optimizations can AI Optimizer perform automatically?</strong></p>\\n<p><strong>A:</strong> It can adjust resource allocations (CPU, memory), scale instances up or down, redistribute workloads, and modify configurations to enhance performance and efficiency without manual intervention.</p>\\n<p><strong>Q3: How does AI Optimizer help reduce cloud costs?</strong></p>', 'score': 170.96548461914062}]\n"
     ]
    }
   ],
   "source": [
    "BASE_URL = \"http://host.com\"\n",
    "query = \"AI optimizer?\"\n",
    "test_query_endpoint(BASE_URL, query)"
   ]
  },
  {
   "cell_type": "code",
   "execution_count": null,
   "metadata": {},
   "outputs": [],
   "source": [
    "BASE_URL = \"http://host.com\"\n",
    "query = \"How do I onboard the first day?\"\n",
    "test_query_endpoint(BASE_URL, query)"
   ]
  },
  {
   "cell_type": "code",
   "execution_count": null,
   "metadata": {},
   "outputs": [],
   "source": [
    "BASE_URL = \"http://host.com\"\n",
    "query = \"What is the revenue of Finova bank?\"\n",
    "test_query_endpoint(BASE_URL, query)"
   ]
  }
 ],
 "metadata": {
  "kernelspec": {
   "display_name": "kfp",
   "language": "python",
   "name": "python3"
  },
  "language_info": {
   "codemirror_mode": {
    "name": "ipython",
    "version": 3
   },
   "file_extension": ".py",
   "mimetype": "text/x-python",
   "name": "python",
   "nbconvert_exporter": "python",
   "pygments_lexer": "ipython3",
   "version": "3.11.9"
  }
 },
 "nbformat": 4,
 "nbformat_minor": 2
}
